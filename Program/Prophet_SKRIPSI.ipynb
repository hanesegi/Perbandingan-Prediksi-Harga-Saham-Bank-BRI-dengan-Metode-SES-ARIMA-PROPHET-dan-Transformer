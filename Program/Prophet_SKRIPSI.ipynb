{
  "nbformat": 4,
  "nbformat_minor": 0,
  "metadata": {
    "colab": {
      "provenance": []
    },
    "kernelspec": {
      "name": "python3",
      "display_name": "Python 3"
    },
    "language_info": {
      "name": "python"
    },
    "gpuClass": "standard"
  },
  "cells": [
    {
      "cell_type": "markdown",
      "source": [
        "# Pendahuluan"
      ],
      "metadata": {
        "id": "DWzkx35g0pS2"
      }
    },
    {
      "cell_type": "markdown",
      "source": [
        "* coming soon"
      ],
      "metadata": {
        "id": "DYEhwcNP0rpT"
      }
    },
    {
      "cell_type": "markdown",
      "source": [
        "# Import library"
      ],
      "metadata": {
        "id": "SFqMAWB_2wPP"
      }
    },
    {
      "cell_type": "code",
      "execution_count": null,
      "metadata": {
        "colab": {
          "base_uri": "https://localhost:8080/"
        },
        "id": "UbvyKX9Gza4b",
        "outputId": "3a5869bd-7002-4acb-964d-7d57bb6b1b47"
      },
      "outputs": [
        {
          "output_type": "stream",
          "name": "stdout",
          "text": [
            "Looking in indexes: https://pypi.org/simple, https://us-python.pkg.dev/colab-wheels/public/simple/\n",
            "Requirement already satisfied: yahoofinancials in /usr/local/lib/python3.10/dist-packages (1.14)\n",
            "Requirement already satisfied: pytz in /usr/local/lib/python3.10/dist-packages (from yahoofinancials) (2022.7.1)\n",
            "Requirement already satisfied: requests>=2.26 in /usr/local/lib/python3.10/dist-packages (from yahoofinancials) (2.27.1)\n",
            "Requirement already satisfied: urllib3<1.27,>=1.21.1 in /usr/local/lib/python3.10/dist-packages (from requests>=2.26->yahoofinancials) (1.26.15)\n",
            "Requirement already satisfied: certifi>=2017.4.17 in /usr/local/lib/python3.10/dist-packages (from requests>=2.26->yahoofinancials) (2022.12.7)\n",
            "Requirement already satisfied: charset-normalizer~=2.0.0 in /usr/local/lib/python3.10/dist-packages (from requests>=2.26->yahoofinancials) (2.0.12)\n",
            "Requirement already satisfied: idna<4,>=2.5 in /usr/local/lib/python3.10/dist-packages (from requests>=2.26->yahoofinancials) (3.4)\n"
          ]
        },
        {
          "output_type": "stream",
          "name": "stderr",
          "text": [
            "<ipython-input-6-593e4c34e335>:11: MatplotlibDeprecationWarning: The seaborn styles shipped by Matplotlib are deprecated since 3.6, as they no longer correspond to the styles shipped by seaborn. However, they will remain available as 'seaborn-v0_8-<style>'. Alternatively, directly use the seaborn API instead.\n",
            "  plt.style.use('seaborn')\n"
          ]
        }
      ],
      "source": [
        "!pip install yahoofinancials\n",
        "from yahoofinancials import YahooFinancials\n",
        "import numpy as np\n",
        "from sklearn.metrics import mean_squared_error\n",
        "import pandas as pd\n",
        "from prophet import Prophet\n",
        "from sklearn.metrics import mean_absolute_percentage_error\n",
        "from sklearn.model_selection import train_test_split\n",
        "import math\n",
        "import matplotlib.pyplot as plt\n",
        "plt.style.use('seaborn')\n",
        "from datetime import datetime\n",
        "\n",
        "#For reproducability\n",
        "from numpy.random import seed\n",
        "seed(1)\n",
        "tf.random.set_seed(2)\n",
        "\n"
      ]
    },
    {
      "cell_type": "markdown",
      "source": [
        "# Get Data"
      ],
      "metadata": {
        "id": "As_GK7rT2yn6"
      }
    },
    {
      "cell_type": "code",
      "source": [
        "# buat function \n",
        "def plot_predictions(test,predicted,symbol):\n",
        "    plt.plot(test, color='red',label=f'Real {symbol} Stock Price')\n",
        "    plt.plot(predicted, color='blue',label=f'Predicted {symbol} Stock Price')\n",
        "    plt.title(f'{symbol} Stock Price Prediction')\n",
        "    plt.xlabel('Time')\n",
        "    plt.ylabel(f'{symbol} Stock Price')\n",
        "    plt.legend()\n",
        "    plt.show()\n",
        "\n",
        "def plot_return_predictions(test,predicted,symbol):\n",
        "    plt.plot(test, color='red',label=f'Real {symbol} Stock Price Returns')\n",
        "    plt.plot(predicted, color='blue',label=f'Predicted {symbol} Stock Price Return')\n",
        "    plt.title(f'{symbol} Stock Return Prediction')\n",
        "    plt.xlabel('Time')\n",
        "    plt.ylabel(f'{symbol} Stock Price Returns')\n",
        "    plt.legend()\n",
        "    plt.show()\n",
        "    \n",
        "def return_rmse(test,predicted):\n",
        "    rmse = math.sqrt(mean_squared_error(test, predicted))\n",
        "    print(\"The root mean squared error is {}.\".format(rmse))\n",
        "    return rmse\n",
        "\n",
        "def get_ticker_data(ticker: str, param_start_date, param_end_date) -> dict:\n",
        "    raw_data = YahooFinancials(ticker)\n",
        "    return raw_data.get_historical_price_data(param_start_date, param_end_date, \"daily\").copy()\n",
        "\n",
        "def fetch_ticker_data(ticker: str, start_date, end_date) -> pd.DataFrame:\n",
        "    date_range = pd.bdate_range(start=start_date, end=end_date)\n",
        "    values = pd.DataFrame({'Date': date_range})\n",
        "    values['Date'] = pd.to_datetime(values['Date'])\n",
        "    raw_data = get_ticker_data(ticker, start_date, end_date)\n",
        "    return pd.DataFrame(raw_data[ticker][\"prices\"])[['date', 'open', 'high', 'low', 'adjclose', 'volume']]\n",
        "\n",
        "def shift(xs, n):\n",
        "    e = np.empty_like(xs)\n",
        "    if n >= 0:\n",
        "        e[:n] = np.nan\n",
        "        e[n:] = xs[:-n]\n",
        "    else:\n",
        "        e[n:] = np.nan\n",
        "        e[:n] = xs[-n:]\n",
        "    return e\n",
        "\n"
      ],
      "metadata": {
        "id": "c-Pk323y231n"
      },
      "execution_count": null,
      "outputs": []
    },
    {
      "cell_type": "code",
      "source": [
        "# # Choose a stock symbol\n",
        "symbol_to_fetch = 'BBRI.JK'\n",
        "\n",
        "# Choose a date range\n",
        "start_date = '2012-01-01'\n",
        "end_date = '2022-12-31'\n",
        "\n",
        "# Get Stock Price Data\n",
        "stock = fetch_ticker_data(symbol_to_fetch, start_date, end_date)\n",
        "stock.columns = ['DateTime', 'Open', 'High', 'Low', 'Close', 'Volume']\n",
        "stock['DateTime'] = stock['DateTime'].apply(lambda x: datetime.fromtimestamp(x))\n",
        "stock = stock.fillna(method=\"ffill\", axis=0)\n",
        "stock = stock.fillna(method=\"bfill\", axis=0)\n",
        "stock = stock.set_index('DateTime')\n",
        "\n",
        "stock['Symbol'] = symbol_to_fetch\n",
        "stock.tail()\n",
        "\n",
        "#save a copy for later testing\n",
        "original_stock = stock\n",
        "original_symbol = symbol_to_fetch\n",
        "# show dataset\n",
        "stock['Close'].tail()"
      ],
      "metadata": {
        "colab": {
          "base_uri": "https://localhost:8080/"
        },
        "id": "Z5UdNUPW0tF4",
        "outputId": "20962721-f39e-4ac2-c45f-7d4d238f8c66"
      },
      "execution_count": null,
      "outputs": [
        {
          "output_type": "execute_result",
          "data": {
            "text/plain": [
              "DateTime\n",
              "2022-12-26 02:00:00    4639.029785\n",
              "2022-12-27 02:00:00    4582.570801\n",
              "2022-12-28 02:00:00    4535.521484\n",
              "2022-12-29 02:00:00    4582.570801\n",
              "2022-12-30 02:00:00    4648.439453\n",
              "Name: Close, dtype: float64"
            ]
          },
          "metadata": {},
          "execution_count": 8
        }
      ]
    },
    {
      "cell_type": "code",
      "source": [
        "# Choose a stock symbol\n",
        "symbol_to_fetch = 'BBRI.JK'\n",
        "# Choose a date range\n",
        "start_date = str(datetime(2012, 1, 1).date())\n",
        "end_date = str(datetime(2021, 12, 31).date())\n",
        "# end_date = datetime.now().strftime('%Y-%m-%d')"
      ],
      "metadata": {
        "id": "iYS6zJKM20ix"
      },
      "execution_count": null,
      "outputs": []
    },
    {
      "cell_type": "markdown",
      "source": [
        "# Preprocessing"
      ],
      "metadata": {
        "id": "yHgb0jqo3U0S"
      }
    },
    {
      "cell_type": "code",
      "source": [
        "# check missing value\n",
        "stock.isna().sum()"
      ],
      "metadata": {
        "colab": {
          "base_uri": "https://localhost:8080/"
        },
        "id": "MT6X7cLF29XH",
        "outputId": "cfa4aac3-1066-4b91-cf6a-051aa8706a5f"
      },
      "execution_count": null,
      "outputs": [
        {
          "output_type": "execute_result",
          "data": {
            "text/plain": [
              "Open      0\n",
              "High      0\n",
              "Low       0\n",
              "Close     0\n",
              "Volume    0\n",
              "Symbol    0\n",
              "dtype: int64"
            ]
          },
          "metadata": {},
          "execution_count": 10
        }
      ]
    },
    {
      "cell_type": "code",
      "source": [
        "# Load stock price data from a CSV file\n",
        "stock_price_data = stock.copy()\n",
        "\n",
        "# Rename columns to the format expected by Prophet\n",
        "stock_price_data = stock_price_data.rename(columns={'Date': 'ds', 'Close': 'y'})\n",
        "\n"
      ],
      "metadata": {
        "id": "_8Ft2bvI3RrD"
      },
      "execution_count": null,
      "outputs": []
    },
    {
      "cell_type": "code",
      "source": [
        "stock_price_data = stock_price_data.drop(['Open','High','Low','Volume','Symbol'],axis=1)"
      ],
      "metadata": {
        "id": "JpDvBans3Xg7"
      },
      "execution_count": null,
      "outputs": []
    },
    {
      "cell_type": "code",
      "source": [
        "stock_price_data = stock_price_data.reset_index().rename(columns={stock_price_data.index.name:'ds'})"
      ],
      "metadata": {
        "id": "IXMvBvhl3iNn"
      },
      "execution_count": null,
      "outputs": []
    },
    {
      "cell_type": "code",
      "source": [
        "stock_price_data"
      ],
      "metadata": {
        "colab": {
          "base_uri": "https://localhost:8080/",
          "height": 424
        },
        "id": "CaS2E1KX3lPj",
        "outputId": "7306f3f5-9f97-4345-8a4f-1f63c970479b"
      },
      "execution_count": null,
      "outputs": [
        {
          "output_type": "execute_result",
          "data": {
            "text/plain": [
              "                      ds            y\n",
              "0    2012-01-02 02:00:00   953.869324\n",
              "1    2012-01-03 02:00:00   967.896912\n",
              "2    2012-01-04 02:00:00   974.910706\n",
              "3    2012-01-05 02:00:00   974.910706\n",
              "4    2012-01-06 02:00:00   967.896912\n",
              "...                  ...          ...\n",
              "2728 2022-12-26 02:00:00  4639.029785\n",
              "2729 2022-12-27 02:00:00  4582.570801\n",
              "2730 2022-12-28 02:00:00  4535.521484\n",
              "2731 2022-12-29 02:00:00  4582.570801\n",
              "2732 2022-12-30 02:00:00  4648.439453\n",
              "\n",
              "[2733 rows x 2 columns]"
            ],
            "text/html": [
              "\n",
              "  <div id=\"df-ae6a5bd9-10d6-4c39-a332-9c7bbb959f23\">\n",
              "    <div class=\"colab-df-container\">\n",
              "      <div>\n",
              "<style scoped>\n",
              "    .dataframe tbody tr th:only-of-type {\n",
              "        vertical-align: middle;\n",
              "    }\n",
              "\n",
              "    .dataframe tbody tr th {\n",
              "        vertical-align: top;\n",
              "    }\n",
              "\n",
              "    .dataframe thead th {\n",
              "        text-align: right;\n",
              "    }\n",
              "</style>\n",
              "<table border=\"1\" class=\"dataframe\">\n",
              "  <thead>\n",
              "    <tr style=\"text-align: right;\">\n",
              "      <th></th>\n",
              "      <th>ds</th>\n",
              "      <th>y</th>\n",
              "    </tr>\n",
              "  </thead>\n",
              "  <tbody>\n",
              "    <tr>\n",
              "      <th>0</th>\n",
              "      <td>2012-01-02 02:00:00</td>\n",
              "      <td>953.869324</td>\n",
              "    </tr>\n",
              "    <tr>\n",
              "      <th>1</th>\n",
              "      <td>2012-01-03 02:00:00</td>\n",
              "      <td>967.896912</td>\n",
              "    </tr>\n",
              "    <tr>\n",
              "      <th>2</th>\n",
              "      <td>2012-01-04 02:00:00</td>\n",
              "      <td>974.910706</td>\n",
              "    </tr>\n",
              "    <tr>\n",
              "      <th>3</th>\n",
              "      <td>2012-01-05 02:00:00</td>\n",
              "      <td>974.910706</td>\n",
              "    </tr>\n",
              "    <tr>\n",
              "      <th>4</th>\n",
              "      <td>2012-01-06 02:00:00</td>\n",
              "      <td>967.896912</td>\n",
              "    </tr>\n",
              "    <tr>\n",
              "      <th>...</th>\n",
              "      <td>...</td>\n",
              "      <td>...</td>\n",
              "    </tr>\n",
              "    <tr>\n",
              "      <th>2728</th>\n",
              "      <td>2022-12-26 02:00:00</td>\n",
              "      <td>4639.029785</td>\n",
              "    </tr>\n",
              "    <tr>\n",
              "      <th>2729</th>\n",
              "      <td>2022-12-27 02:00:00</td>\n",
              "      <td>4582.570801</td>\n",
              "    </tr>\n",
              "    <tr>\n",
              "      <th>2730</th>\n",
              "      <td>2022-12-28 02:00:00</td>\n",
              "      <td>4535.521484</td>\n",
              "    </tr>\n",
              "    <tr>\n",
              "      <th>2731</th>\n",
              "      <td>2022-12-29 02:00:00</td>\n",
              "      <td>4582.570801</td>\n",
              "    </tr>\n",
              "    <tr>\n",
              "      <th>2732</th>\n",
              "      <td>2022-12-30 02:00:00</td>\n",
              "      <td>4648.439453</td>\n",
              "    </tr>\n",
              "  </tbody>\n",
              "</table>\n",
              "<p>2733 rows × 2 columns</p>\n",
              "</div>\n",
              "      <button class=\"colab-df-convert\" onclick=\"convertToInteractive('df-ae6a5bd9-10d6-4c39-a332-9c7bbb959f23')\"\n",
              "              title=\"Convert this dataframe to an interactive table.\"\n",
              "              style=\"display:none;\">\n",
              "        \n",
              "  <svg xmlns=\"http://www.w3.org/2000/svg\" height=\"24px\"viewBox=\"0 0 24 24\"\n",
              "       width=\"24px\">\n",
              "    <path d=\"M0 0h24v24H0V0z\" fill=\"none\"/>\n",
              "    <path d=\"M18.56 5.44l.94 2.06.94-2.06 2.06-.94-2.06-.94-.94-2.06-.94 2.06-2.06.94zm-11 1L8.5 8.5l.94-2.06 2.06-.94-2.06-.94L8.5 2.5l-.94 2.06-2.06.94zm10 10l.94 2.06.94-2.06 2.06-.94-2.06-.94-.94-2.06-.94 2.06-2.06.94z\"/><path d=\"M17.41 7.96l-1.37-1.37c-.4-.4-.92-.59-1.43-.59-.52 0-1.04.2-1.43.59L10.3 9.45l-7.72 7.72c-.78.78-.78 2.05 0 2.83L4 21.41c.39.39.9.59 1.41.59.51 0 1.02-.2 1.41-.59l7.78-7.78 2.81-2.81c.8-.78.8-2.07 0-2.86zM5.41 20L4 18.59l7.72-7.72 1.47 1.35L5.41 20z\"/>\n",
              "  </svg>\n",
              "      </button>\n",
              "      \n",
              "  <style>\n",
              "    .colab-df-container {\n",
              "      display:flex;\n",
              "      flex-wrap:wrap;\n",
              "      gap: 12px;\n",
              "    }\n",
              "\n",
              "    .colab-df-convert {\n",
              "      background-color: #E8F0FE;\n",
              "      border: none;\n",
              "      border-radius: 50%;\n",
              "      cursor: pointer;\n",
              "      display: none;\n",
              "      fill: #1967D2;\n",
              "      height: 32px;\n",
              "      padding: 0 0 0 0;\n",
              "      width: 32px;\n",
              "    }\n",
              "\n",
              "    .colab-df-convert:hover {\n",
              "      background-color: #E2EBFA;\n",
              "      box-shadow: 0px 1px 2px rgba(60, 64, 67, 0.3), 0px 1px 3px 1px rgba(60, 64, 67, 0.15);\n",
              "      fill: #174EA6;\n",
              "    }\n",
              "\n",
              "    [theme=dark] .colab-df-convert {\n",
              "      background-color: #3B4455;\n",
              "      fill: #D2E3FC;\n",
              "    }\n",
              "\n",
              "    [theme=dark] .colab-df-convert:hover {\n",
              "      background-color: #434B5C;\n",
              "      box-shadow: 0px 1px 3px 1px rgba(0, 0, 0, 0.15);\n",
              "      filter: drop-shadow(0px 1px 2px rgba(0, 0, 0, 0.3));\n",
              "      fill: #FFFFFF;\n",
              "    }\n",
              "  </style>\n",
              "\n",
              "      <script>\n",
              "        const buttonEl =\n",
              "          document.querySelector('#df-ae6a5bd9-10d6-4c39-a332-9c7bbb959f23 button.colab-df-convert');\n",
              "        buttonEl.style.display =\n",
              "          google.colab.kernel.accessAllowed ? 'block' : 'none';\n",
              "\n",
              "        async function convertToInteractive(key) {\n",
              "          const element = document.querySelector('#df-ae6a5bd9-10d6-4c39-a332-9c7bbb959f23');\n",
              "          const dataTable =\n",
              "            await google.colab.kernel.invokeFunction('convertToInteractive',\n",
              "                                                     [key], {});\n",
              "          if (!dataTable) return;\n",
              "\n",
              "          const docLinkHtml = 'Like what you see? Visit the ' +\n",
              "            '<a target=\"_blank\" href=https://colab.research.google.com/notebooks/data_table.ipynb>data table notebook</a>'\n",
              "            + ' to learn more about interactive tables.';\n",
              "          element.innerHTML = '';\n",
              "          dataTable['output_type'] = 'display_data';\n",
              "          await google.colab.output.renderOutput(dataTable, element);\n",
              "          const docLink = document.createElement('div');\n",
              "          docLink.innerHTML = docLinkHtml;\n",
              "          element.appendChild(docLink);\n",
              "        }\n",
              "      </script>\n",
              "    </div>\n",
              "  </div>\n",
              "  "
            ]
          },
          "metadata": {},
          "execution_count": 16
        }
      ]
    },
    {
      "cell_type": "markdown",
      "source": [
        "# Modelling"
      ],
      "metadata": {
        "id": "3Ytr6VG03bMb"
      }
    },
    {
      "cell_type": "code",
      "source": [
        "# Create and fit Prophet model to training data\n",
        "prophet_model = Prophet()\n",
        "# Split data into train and test sets (90;10)\n",
        "train_data, test_data = train_test_split(stock_price_data, test_size=0.1, shuffle=False)"
      ],
      "metadata": {
        "id": "rQ8DP_Xq3ZEe"
      },
      "execution_count": null,
      "outputs": []
    },
    {
      "cell_type": "code",
      "source": [
        "prophet_model = Prophet()\n",
        "prophet_model.fit(train_data)"
      ],
      "metadata": {
        "colab": {
          "base_uri": "https://localhost:8080/"
        },
        "id": "cLnptGyp3ewN",
        "outputId": "e3bc4db6-f610-4bc9-8aee-07c640d820b4"
      },
      "execution_count": null,
      "outputs": [
        {
          "output_type": "stream",
          "name": "stderr",
          "text": [
            "INFO:prophet:Disabling daily seasonality. Run prophet with daily_seasonality=True to override this.\n",
            "DEBUG:cmdstanpy:input tempfile: /tmp/tmpb3a0d2ap/_4k7bch6.json\n",
            "DEBUG:cmdstanpy:input tempfile: /tmp/tmpb3a0d2ap/go8dxott.json\n",
            "DEBUG:cmdstanpy:idx 0\n",
            "DEBUG:cmdstanpy:running CmdStan, num_threads: None\n",
            "DEBUG:cmdstanpy:CmdStan args: ['/usr/local/lib/python3.10/dist-packages/prophet/stan_model/prophet_model.bin', 'random', 'seed=78787', 'data', 'file=/tmp/tmpb3a0d2ap/_4k7bch6.json', 'init=/tmp/tmpb3a0d2ap/go8dxott.json', 'output', 'file=/tmp/tmpb3a0d2ap/prophet_modelyut4vazn/prophet_model-20230520063542.csv', 'method=optimize', 'algorithm=lbfgs', 'iter=10000']\n",
            "06:35:42 - cmdstanpy - INFO - Chain [1] start processing\n",
            "INFO:cmdstanpy:Chain [1] start processing\n",
            "06:35:43 - cmdstanpy - INFO - Chain [1] done processing\n",
            "INFO:cmdstanpy:Chain [1] done processing\n"
          ]
        },
        {
          "output_type": "execute_result",
          "data": {
            "text/plain": [
              "<prophet.forecaster.Prophet at 0x7fb16997ed40>"
            ]
          },
          "metadata": {},
          "execution_count": 19
        }
      ]
    },
    {
      "cell_type": "markdown",
      "source": [
        "# Evaluasi"
      ],
      "metadata": {
        "id": "APkIo1rd3zhR"
      }
    },
    {
      "cell_type": "code",
      "source": [
        "# Make predictions on test data using Prophet model\n",
        "forecast = prophet_model.predict(test_data[['ds']])\n",
        "\n",
        "# Compute MAPE of the forecast\n",
        "mape = mean_absolute_percentage_error(test_data['y'], forecast['yhat'])\n",
        "\n",
        "# Print summary of results\n",
        "print(f'Prophet')\n",
        "print(f'Training data length: {len(train_data)}')\n",
        "print(f'Test data length: {len(test_data)}')\n",
        "print(f'MAPE of the forecast: {mape:.2f}%')\n",
        "\n",
        "# Plot the Prophet forecast\n",
        "fig = prophet_model.plot(forecast)\n",
        "plt.show()"
      ],
      "metadata": {
        "colab": {
          "base_uri": "https://localhost:8080/",
          "height": 675
        },
        "id": "xENULhkR3v7Z",
        "outputId": "baf21710-117a-4ccb-baa9-7cf1e0030576"
      },
      "execution_count": null,
      "outputs": [
        {
          "output_type": "stream",
          "name": "stdout",
          "text": [
            "Prophet\n",
            "Training data length: 2459\n",
            "Test data length: 274\n",
            "MAPE of the forecast: 0.10%\n"
          ]
        },
        {
          "output_type": "display_data",
          "data": {
            "text/plain": [
              "<Figure size 1000x600 with 1 Axes>"
            ],
            "image/png": "[encoded data removed]"
          },
          "metadata": {}
        }
      ]
    },
    {
      "cell_type": "code",
      "source": [],
      "metadata": {
        "id": "or-AMMEY31ti"
      },
      "execution_count": null,
      "outputs": []
    }
  ]
}