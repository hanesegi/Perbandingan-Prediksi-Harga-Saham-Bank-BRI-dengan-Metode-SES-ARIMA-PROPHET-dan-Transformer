{
  "nbformat": 4,
  "nbformat_minor": 0,
  "metadata": {
    "colab": {
      "provenance": [],
      "toc_visible": true
    },
    "kernelspec": {
      "name": "python3",
      "display_name": "Python 3"
    },
    "language_info": {
      "name": "python"
    },
    "gpuClass": "standard"
  },
  "cells": [
    {
      "cell_type": "markdown",
      "source": [
        "# Pendahuluan"
      ],
      "metadata": {
        "id": "e8w9nQtO4-ZQ"
      }
    },
    {
      "cell_type": "markdown",
      "source": [],
      "metadata": {
        "id": "Qxrq39cw5BPz"
      }
    },
    {
      "cell_type": "markdown",
      "source": [
        "# Import Library"
      ],
      "metadata": {
        "id": "7Nor9_sv5BwH"
      }
    },
    {
      "cell_type": "code",
      "execution_count": null,
      "metadata": {
        "colab": {
          "base_uri": "https://localhost:8080/"
        },
        "id": "XyvnqRf34evs",
        "outputId": "001e28a0-f026-477e-c41a-ff07245e0cd1"
      },
      "outputs": [
        {
          "output_type": "stream",
          "name": "stdout",
          "text": [
            "Looking in indexes: https://pypi.org/simple, https://us-python.pkg.dev/colab-wheels/public/simple/\n",
            "Requirement already satisfied: yahoofinancials in /usr/local/lib/python3.10/dist-packages (1.14)\n",
            "Requirement already satisfied: pytz in /usr/local/lib/python3.10/dist-packages (from yahoofinancials) (2022.7.1)\n",
            "Requirement already satisfied: requests>=2.26 in /usr/local/lib/python3.10/dist-packages (from yahoofinancials) (2.27.1)\n",
            "Requirement already satisfied: urllib3<1.27,>=1.21.1 in /usr/local/lib/python3.10/dist-packages (from requests>=2.26->yahoofinancials) (1.26.15)\n",
            "Requirement already satisfied: certifi>=2017.4.17 in /usr/local/lib/python3.10/dist-packages (from requests>=2.26->yahoofinancials) (2022.12.7)\n",
            "Requirement already satisfied: charset-normalizer~=2.0.0 in /usr/local/lib/python3.10/dist-packages (from requests>=2.26->yahoofinancials) (2.0.12)\n",
            "Requirement already satisfied: idna<4,>=2.5 in /usr/local/lib/python3.10/dist-packages (from requests>=2.26->yahoofinancials) (3.4)\n"
          ]
        },
        {
          "output_type": "stream",
          "name": "stderr",
          "text": [
            "<ipython-input-2-2228fd32b7e9>:11: MatplotlibDeprecationWarning: The seaborn styles shipped by Matplotlib are deprecated since 3.6, as they no longer correspond to the styles shipped by seaborn. However, they will remain available as 'seaborn-v0_8-<style>'. Alternatively, directly use the seaborn API instead.\n",
            "  plt.style.use('seaborn')\n"
          ]
        }
      ],
      "source": [
        "!pip install yahoofinancials\n",
        "from yahoofinancials import YahooFinancials\n",
        "import numpy as np\n",
        "from sklearn.metrics import mean_squared_error\n",
        "import pandas as pd\n",
        "from sklearn.metrics import mean_absolute_percentage_error\n",
        "from sklearn.model_selection import train_test_split\n",
        "import math\n",
        "import matplotlib.pyplot as plt\n",
        "plt.style.use('seaborn')\n",
        "from datetime import datetime\n",
        "\n",
        "#For reproducability\n",
        "from numpy.random import seed\n",
        "seed(1)\n",
        "\n"
      ]
    },
    {
      "cell_type": "markdown",
      "source": [
        "# Get Data"
      ],
      "metadata": {
        "id": "8E5Agies5FII"
      }
    },
    {
      "cell_type": "code",
      "source": [
        "# buat function \n",
        "def plot_predictions(test,predicted,symbol):\n",
        "    plt.plot(test, color='red',label=f'Real {symbol} Stock Price')\n",
        "    plt.plot(predicted, color='blue',label=f'Predicted {symbol} Stock Price')\n",
        "    plt.title(f'{symbol} Stock Price Prediction')\n",
        "    plt.xlabel('Time')\n",
        "    plt.ylabel(f'{symbol} Stock Price')\n",
        "    plt.legend()\n",
        "    plt.show()\n",
        "\n",
        "def plot_return_predictions(test,predicted,symbol):\n",
        "    plt.plot(test, color='red',label=f'Real {symbol} Stock Price Returns')\n",
        "    plt.plot(predicted, color='blue',label=f'Predicted {symbol} Stock Price Return')\n",
        "    plt.title(f'{symbol} Stock Return Prediction')\n",
        "    plt.xlabel('Time')\n",
        "    plt.ylabel(f'{symbol} Stock Price Returns')\n",
        "    plt.legend()\n",
        "    plt.show()\n",
        "    \n",
        "def return_rmse(test,predicted):\n",
        "    rmse = math.sqrt(mean_squared_error(test, predicted))\n",
        "    print(\"The root mean squared error is {}.\".format(rmse))\n",
        "    return rmse\n",
        "\n",
        "def get_ticker_data(ticker: str, param_start_date, param_end_date) -> dict:\n",
        "    raw_data = YahooFinancials(ticker)\n",
        "    return raw_data.get_historical_price_data(param_start_date, param_end_date, \"daily\").copy()\n",
        "\n",
        "def fetch_ticker_data(ticker: str, start_date, end_date) -> pd.DataFrame:\n",
        "    date_range = pd.bdate_range(start=start_date, end=end_date)\n",
        "    values = pd.DataFrame({'Date': date_range})\n",
        "    values['Date'] = pd.to_datetime(values['Date'])\n",
        "    raw_data = get_ticker_data(ticker, start_date, end_date)\n",
        "    return pd.DataFrame(raw_data[ticker][\"prices\"])[['date', 'open', 'high', 'low', 'adjclose', 'volume']]\n",
        "\n",
        "def shift(xs, n):\n",
        "    e = np.empty_like(xs)\n",
        "    if n >= 0:\n",
        "        e[:n] = np.nan\n",
        "        e[n:] = xs[:-n]\n",
        "    else:\n",
        "        e[n:] = np.nan\n",
        "        e[:n] = xs[-n:]\n",
        "    return e\n",
        "\n"
      ],
      "metadata": {
        "id": "pvwHrRWN4o1f"
      },
      "execution_count": null,
      "outputs": []
    },
    {
      "cell_type": "code",
      "source": [
        "# # Choose a stock symbol\n",
        "symbol_to_fetch = 'BBRI.JK'\n",
        "\n",
        "# Choose a date range\n",
        "start_date = '2012-01-01'\n",
        "end_date = '2022-12-31'\n",
        "\n",
        "# Get Stock Price Data\n",
        "stock = fetch_ticker_data(symbol_to_fetch, start_date, end_date)\n",
        "stock.columns = ['DateTime', 'Open', 'High', 'Low', 'Close', 'Volume']\n",
        "stock['DateTime'] = stock['DateTime'].apply(lambda x: datetime.fromtimestamp(x))\n",
        "stock = stock.fillna(method=\"ffill\", axis=0)\n",
        "stock = stock.fillna(method=\"bfill\", axis=0)\n",
        "stock = stock.set_index('DateTime')\n",
        "\n",
        "stock['Symbol'] = symbol_to_fetch\n",
        "stock.tail()\n",
        "\n",
        "#save a copy for later testing\n",
        "original_stock = stock\n",
        "original_symbol = symbol_to_fetch\n",
        "# show dataset\n",
        "stock['Close'].tail()"
      ],
      "metadata": {
        "colab": {
          "base_uri": "https://localhost:8080/"
        },
        "id": "BkCz_gCo5HR4",
        "outputId": "723160b0-6a9a-4612-9360-12fb38ce8f5c"
      },
      "execution_count": null,
      "outputs": [
        {
          "output_type": "execute_result",
          "data": {
            "text/plain": [
              "DateTime\n",
              "2022-12-26 02:00:00    4639.029297\n",
              "2022-12-27 02:00:00    4582.570801\n",
              "2022-12-28 02:00:00    4535.521973\n",
              "2022-12-29 02:00:00    4582.570801\n",
              "2022-12-30 02:00:00    4648.439453\n",
              "Name: Close, dtype: float64"
            ]
          },
          "metadata": {},
          "execution_count": 4
        }
      ]
    },
    {
      "cell_type": "code",
      "source": [
        "# Choose a stock symbol\n",
        "symbol_to_fetch = 'BBRI.JK'\n",
        "# Choose a date range\n",
        "start_date = str(datetime(2012, 1, 1).date())\n",
        "end_date = str(datetime(2021, 12, 31).date())\n",
        "# end_date = datetime.now().strftime('%Y-%m-%d')"
      ],
      "metadata": {
        "id": "6JZdTPY25JAN"
      },
      "execution_count": null,
      "outputs": []
    },
    {
      "cell_type": "markdown",
      "source": [
        "# Modelling"
      ],
      "metadata": {
        "id": "hPoDlQIN5Maz"
      }
    },
    {
      "cell_type": "code",
      "source": [
        "\n",
        "def single_exponential_smoothing(train_data, alpha):\n",
        "    '''\n",
        "    Single Exponential Smoothing (SES) function to forecast the test data\n",
        "\n",
        "    Parameters:\n",
        "        train_data (array): Array of training data\n",
        "        alpha (float): Smoothing factor (0 < alpha < 1)\n",
        "\n",
        "    Returns:\n",
        "        smoothed_data (array): Array of smoothed data\n",
        "    '''\n",
        "    smoothed_data = [train_data[0]]  # Set the first value equal to the first data point in train data\n",
        "    for i in range(1, len(train_data)):\n",
        "        smoothed_data.append(alpha * train_data[i] + (1 - alpha) * smoothed_data[i-1])\n",
        "    return smoothed_data"
      ],
      "metadata": {
        "id": "cjXQyokp5Lc0"
      },
      "execution_count": null,
      "outputs": []
    },
    {
      "cell_type": "code",
      "source": [
        "# Load stock price data from a CSV file\n",
        "stock_price_data = stock.copy()"
      ],
      "metadata": {
        "id": "QGH1wJSl5RbD"
      },
      "execution_count": null,
      "outputs": []
    },
    {
      "cell_type": "code",
      "source": [
        "def single_exponential_smoothing(train_data, alpha):\n",
        "    '''\n",
        "    Single Exponential Smoothing (SES) function to forecast the test data\n",
        "\n",
        "    Parameters:\n",
        "        train_data (array): Array of training data\n",
        "        alpha (float): Smoothing factor (0 < alpha < 1)\n",
        "\n",
        "    Returns:\n",
        "        smoothed_data (array): Array of smoothed data\n",
        "    '''\n",
        "    smoothed_data = [train_data[0]]  # Set the first value equal to the first data point in train data\n",
        "    for i in range(1, len(train_data)):\n",
        "        smoothed_data.append(alpha * train_data[i] + (1 - alpha) * smoothed_data[i-1])\n",
        "    return smoothed_data\n",
        "\n",
        "def MAPE(actual, predicted):\n",
        "    '''\n",
        "    Mean Absolute Percentage Error (MAPE) function\n",
        "\n",
        "    Parameters:\n",
        "        actual (array): Array of actual values\n",
        "        predicted (array): Array of predicted values\n",
        "\n",
        "    Returns:\n",
        "        mape (float): MAPE value\n",
        "    '''\n",
        "    return np.mean(np.abs((actual - predicted) / actual)) * 100\n"
      ],
      "metadata": {
        "id": "pwMfiVHk5X8n"
      },
      "execution_count": null,
      "outputs": []
    },
    {
      "cell_type": "code",
      "source": [
        "# Split data into train and test sets\n",
        "train_data = stock_price_data['Close'][:-273].values\n",
        "test_data = stock_price_data['Close'][2461:].values"
      ],
      "metadata": {
        "id": "uyqB69Fh5c55"
      },
      "execution_count": null,
      "outputs": []
    },
    {
      "cell_type": "code",
      "source": [
        "# Apply Single Exponential Smoothing to training data\n",
        "alpha = 1  # Smoothing factor\n",
        "smoothed_data = single_exponential_smoothing(train_data, alpha)\n"
      ],
      "metadata": {
        "id": "oKdFtphc5io-"
      },
      "execution_count": null,
      "outputs": []
    },
    {
      "cell_type": "markdown",
      "source": [
        "# Evaluasi"
      ],
      "metadata": {
        "id": "GRJom1iM52gH"
      }
    },
    {
      "cell_type": "code",
      "source": [
        "# Compute MAPE of the forecast\n",
        "mape = MAPE(test_data, smoothed_data[-len(test_data):])\n",
        "print(f'MAPE of the forecast: {mape:.2f}%')\n",
        "\n",
        "# Plot the original training data, smoothed training data, and test data\n",
        "plt.plot(train_data, label='Training data')\n",
        "plt.plot(smoothed_data, label='Smoothed training data')\n",
        "plt.plot(np.arange(len(train_data), len(train_data)+len(test_data)), test_data, label='Test data')\n",
        "plt.legend()\n",
        "plt.show()\n"
      ],
      "metadata": {
        "colab": {
          "base_uri": "https://localhost:8080/",
          "height": 501
        },
        "id": "vy8NVF3l5ybl",
        "outputId": "a4bab197-7606-4496-d3e8-04d7c15325f9"
      },
      "execution_count": null,
      "outputs": [
        {
          "output_type": "stream",
          "name": "stdout",
          "text": [
            "MAPE of the forecast: 11.15%\n"
          ]
        },
        {
          "output_type": "display_data",
          "data": {
            "text/plain": [
              "<Figure size 800x550 with 1 Axes>"
            ],
            "image/png": "[encoded data removed]"
          },
          "metadata": {}
        }
      ]
    },
    {
      "cell_type": "code",
      "source": [],
      "metadata": {
        "id": "v3bpCTF553mX"
      },
      "execution_count": null,
      "outputs": []
    }
  ]
}